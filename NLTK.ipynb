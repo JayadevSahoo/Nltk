{
 "cells": [
  {
   "cell_type": "code",
   "execution_count": 1,
   "metadata": {},
   "outputs": [],
   "source": [
    "import nltk"
   ]
  },
  {
   "cell_type": "code",
   "execution_count": 20,
   "metadata": {},
   "outputs": [],
   "source": [
    " sentence = \"\"\"Full name of 'Narendra Modi' is Narendra Damodardas Modi He was born on 17 September 1950 in Vadnagar, Mehsana district, Bombay State (present day Gujarat)............ His father's name was Damodardas Mool Chand Modi and mother's name is Hiraben. He was born into a middle class family At the age of 13, he was engaged with Jasoda Ben Chaman Lal and when they were married, he was just 17\"\"\""
   ]
  },
  {
   "cell_type": "code",
   "execution_count": 21,
   "metadata": {},
   "outputs": [],
   "source": [
    "tokens = nltk.word_tokenize(sentence)"
   ]
  },
  {
   "cell_type": "code",
   "execution_count": 22,
   "metadata": {},
   "outputs": [
    {
     "data": {
      "text/plain": [
       "['Full',\n",
       " 'name',\n",
       " 'of',\n",
       " \"'Narendra\",\n",
       " 'Modi',\n",
       " \"'\",\n",
       " 'is',\n",
       " 'Narendra',\n",
       " 'Damodardas',\n",
       " 'Modi',\n",
       " 'He',\n",
       " 'was',\n",
       " 'born',\n",
       " 'on',\n",
       " '17',\n",
       " 'September',\n",
       " '1950',\n",
       " 'in',\n",
       " 'Vadnagar',\n",
       " ',',\n",
       " 'Mehsana',\n",
       " 'district',\n",
       " ',',\n",
       " 'Bombay',\n",
       " 'State',\n",
       " '(',\n",
       " 'present',\n",
       " 'day',\n",
       " 'Gujarat',\n",
       " ')',\n",
       " '...',\n",
       " '...',\n",
       " '...',\n",
       " '...',\n",
       " 'His',\n",
       " 'father',\n",
       " \"'s\",\n",
       " 'name',\n",
       " 'was',\n",
       " 'Damodardas',\n",
       " 'Mool',\n",
       " 'Chand',\n",
       " 'Modi',\n",
       " 'and',\n",
       " 'mother',\n",
       " \"'s\",\n",
       " 'name',\n",
       " 'is',\n",
       " 'Hiraben',\n",
       " '.',\n",
       " 'He',\n",
       " 'was',\n",
       " 'born',\n",
       " 'into',\n",
       " 'a',\n",
       " 'middle',\n",
       " 'class',\n",
       " 'family',\n",
       " 'At',\n",
       " 'the',\n",
       " 'age',\n",
       " 'of',\n",
       " '13',\n",
       " ',',\n",
       " 'he',\n",
       " 'was',\n",
       " 'engaged',\n",
       " 'with',\n",
       " 'Jasoda',\n",
       " 'Ben',\n",
       " 'Chaman',\n",
       " 'Lal',\n",
       " 'and',\n",
       " 'when',\n",
       " 'they',\n",
       " 'were',\n",
       " 'married',\n",
       " ',',\n",
       " 'he',\n",
       " 'was',\n",
       " 'just',\n",
       " '17']"
      ]
     },
     "execution_count": 22,
     "metadata": {},
     "output_type": "execute_result"
    }
   ],
   "source": [
    "tokens"
   ]
  },
  {
   "cell_type": "code",
   "execution_count": 23,
   "metadata": {},
   "outputs": [],
   "source": [
    "tagged = nltk.pos_tag(tokens)"
   ]
  },
  {
   "cell_type": "code",
   "execution_count": 24,
   "metadata": {},
   "outputs": [
    {
     "data": {
      "text/plain": [
       "[('Full', 'NNP'),\n",
       " ('name', 'NN'),\n",
       " ('of', 'IN'),\n",
       " (\"'Narendra\", 'NNP'),\n",
       " ('Modi', 'NNP'),\n",
       " (\"'\", 'POS'),\n",
       " ('is', 'VBZ'),\n",
       " ('Narendra', 'NNP'),\n",
       " ('Damodardas', 'NNP'),\n",
       " ('Modi', 'NNP'),\n",
       " ('He', 'PRP'),\n",
       " ('was', 'VBD'),\n",
       " ('born', 'VBN'),\n",
       " ('on', 'IN'),\n",
       " ('17', 'CD'),\n",
       " ('September', 'NNP'),\n",
       " ('1950', 'CD'),\n",
       " ('in', 'IN'),\n",
       " ('Vadnagar', 'NNP'),\n",
       " (',', ','),\n",
       " ('Mehsana', 'NNP'),\n",
       " ('district', 'NN'),\n",
       " (',', ','),\n",
       " ('Bombay', 'NNP'),\n",
       " ('State', 'NNP'),\n",
       " ('(', '('),\n",
       " ('present', 'JJ'),\n",
       " ('day', 'NN'),\n",
       " ('Gujarat', 'NNP'),\n",
       " (')', ')'),\n",
       " ('...', ':'),\n",
       " ('...', ':'),\n",
       " ('...', ':'),\n",
       " ('...', ':'),\n",
       " ('His', 'PRP$'),\n",
       " ('father', 'NN'),\n",
       " (\"'s\", 'POS'),\n",
       " ('name', 'NN'),\n",
       " ('was', 'VBD'),\n",
       " ('Damodardas', 'NNP'),\n",
       " ('Mool', 'NNP'),\n",
       " ('Chand', 'NNP'),\n",
       " ('Modi', 'NNP'),\n",
       " ('and', 'CC'),\n",
       " ('mother', 'NN'),\n",
       " (\"'s\", 'POS'),\n",
       " ('name', 'NN'),\n",
       " ('is', 'VBZ'),\n",
       " ('Hiraben', 'NNP'),\n",
       " ('.', '.')]"
      ]
     },
     "execution_count": 24,
     "metadata": {},
     "output_type": "execute_result"
    }
   ],
   "source": [
    "tagged[0:50]"
   ]
  },
  {
   "cell_type": "markdown",
   "metadata": {},
   "source": [
    "# Identify named entities:"
   ]
  },
  {
   "cell_type": "code",
   "execution_count": 25,
   "metadata": {},
   "outputs": [],
   "source": [
    "entities = nltk.chunk.ne_chunk(tagged)"
   ]
  },
  {
   "cell_type": "code",
   "execution_count": 26,
   "metadata": {},
   "outputs": [
    {
     "ename": "LookupError",
     "evalue": "\n\n===========================================================================\nNLTK was unable to find the gs file!\nUse software specific configuration paramaters or set the PATH environment variable.\n===========================================================================",
     "output_type": "error",
     "traceback": [
      "\u001b[1;31m---------------------------------------------------------------------------\u001b[0m",
      "\u001b[1;31mLookupError\u001b[0m                               Traceback (most recent call last)",
      "\u001b[1;32m~\\Anaconda3\\lib\\site-packages\\IPython\\core\\formatters.py\u001b[0m in \u001b[0;36m__call__\u001b[1;34m(self, obj)\u001b[0m\n\u001b[0;32m    343\u001b[0m             \u001b[0mmethod\u001b[0m \u001b[1;33m=\u001b[0m \u001b[0mget_real_method\u001b[0m\u001b[1;33m(\u001b[0m\u001b[0mobj\u001b[0m\u001b[1;33m,\u001b[0m \u001b[0mself\u001b[0m\u001b[1;33m.\u001b[0m\u001b[0mprint_method\u001b[0m\u001b[1;33m)\u001b[0m\u001b[1;33m\u001b[0m\u001b[1;33m\u001b[0m\u001b[0m\n\u001b[0;32m    344\u001b[0m             \u001b[1;32mif\u001b[0m \u001b[0mmethod\u001b[0m \u001b[1;32mis\u001b[0m \u001b[1;32mnot\u001b[0m \u001b[1;32mNone\u001b[0m\u001b[1;33m:\u001b[0m\u001b[1;33m\u001b[0m\u001b[1;33m\u001b[0m\u001b[0m\n\u001b[1;32m--> 345\u001b[1;33m                 \u001b[1;32mreturn\u001b[0m \u001b[0mmethod\u001b[0m\u001b[1;33m(\u001b[0m\u001b[1;33m)\u001b[0m\u001b[1;33m\u001b[0m\u001b[1;33m\u001b[0m\u001b[0m\n\u001b[0m\u001b[0;32m    346\u001b[0m             \u001b[1;32mreturn\u001b[0m \u001b[1;32mNone\u001b[0m\u001b[1;33m\u001b[0m\u001b[1;33m\u001b[0m\u001b[0m\n\u001b[0;32m    347\u001b[0m         \u001b[1;32melse\u001b[0m\u001b[1;33m:\u001b[0m\u001b[1;33m\u001b[0m\u001b[1;33m\u001b[0m\u001b[0m\n",
      "\u001b[1;32m~\\Anaconda3\\lib\\site-packages\\nltk\\tree.py\u001b[0m in \u001b[0;36m_repr_png_\u001b[1;34m(self)\u001b[0m\n\u001b[0;32m    795\u001b[0m                         \u001b[0mbinary_names\u001b[0m\u001b[1;33m=\u001b[0m\u001b[1;33m[\u001b[0m\u001b[1;34m'gswin32c.exe'\u001b[0m\u001b[1;33m,\u001b[0m \u001b[1;34m'gswin64c.exe'\u001b[0m\u001b[1;33m]\u001b[0m\u001b[1;33m,\u001b[0m\u001b[1;33m\u001b[0m\u001b[1;33m\u001b[0m\u001b[0m\n\u001b[0;32m    796\u001b[0m                         \u001b[0menv_vars\u001b[0m\u001b[1;33m=\u001b[0m\u001b[1;33m[\u001b[0m\u001b[1;34m'PATH'\u001b[0m\u001b[1;33m]\u001b[0m\u001b[1;33m,\u001b[0m\u001b[1;33m\u001b[0m\u001b[1;33m\u001b[0m\u001b[0m\n\u001b[1;32m--> 797\u001b[1;33m                         \u001b[0mverbose\u001b[0m\u001b[1;33m=\u001b[0m\u001b[1;32mFalse\u001b[0m\u001b[1;33m,\u001b[0m\u001b[1;33m\u001b[0m\u001b[1;33m\u001b[0m\u001b[0m\n\u001b[0m\u001b[0;32m    798\u001b[0m                     )\n\u001b[0;32m    799\u001b[0m                 ]\n",
      "\u001b[1;32m~\\Anaconda3\\lib\\site-packages\\nltk\\internals.py\u001b[0m in \u001b[0;36mfind_binary\u001b[1;34m(name, path_to_bin, env_vars, searchpath, binary_names, url, verbose)\u001b[0m\n\u001b[0;32m    694\u001b[0m     return next(\n\u001b[0;32m    695\u001b[0m         find_binary_iter(\n\u001b[1;32m--> 696\u001b[1;33m             \u001b[0mname\u001b[0m\u001b[1;33m,\u001b[0m \u001b[0mpath_to_bin\u001b[0m\u001b[1;33m,\u001b[0m \u001b[0menv_vars\u001b[0m\u001b[1;33m,\u001b[0m \u001b[0msearchpath\u001b[0m\u001b[1;33m,\u001b[0m \u001b[0mbinary_names\u001b[0m\u001b[1;33m,\u001b[0m \u001b[0murl\u001b[0m\u001b[1;33m,\u001b[0m \u001b[0mverbose\u001b[0m\u001b[1;33m\u001b[0m\u001b[1;33m\u001b[0m\u001b[0m\n\u001b[0m\u001b[0;32m    697\u001b[0m         )\n\u001b[0;32m    698\u001b[0m     )\n",
      "\u001b[1;32m~\\Anaconda3\\lib\\site-packages\\nltk\\internals.py\u001b[0m in \u001b[0;36mfind_binary_iter\u001b[1;34m(name, path_to_bin, env_vars, searchpath, binary_names, url, verbose)\u001b[0m\n\u001b[0;32m    678\u001b[0m     \"\"\"\n\u001b[0;32m    679\u001b[0m     for file in find_file_iter(\n\u001b[1;32m--> 680\u001b[1;33m         \u001b[0mpath_to_bin\u001b[0m \u001b[1;32mor\u001b[0m \u001b[0mname\u001b[0m\u001b[1;33m,\u001b[0m \u001b[0menv_vars\u001b[0m\u001b[1;33m,\u001b[0m \u001b[0msearchpath\u001b[0m\u001b[1;33m,\u001b[0m \u001b[0mbinary_names\u001b[0m\u001b[1;33m,\u001b[0m \u001b[0murl\u001b[0m\u001b[1;33m,\u001b[0m \u001b[0mverbose\u001b[0m\u001b[1;33m\u001b[0m\u001b[1;33m\u001b[0m\u001b[0m\n\u001b[0m\u001b[0;32m    681\u001b[0m     ):\n\u001b[0;32m    682\u001b[0m         \u001b[1;32myield\u001b[0m \u001b[0mfile\u001b[0m\u001b[1;33m\u001b[0m\u001b[1;33m\u001b[0m\u001b[0m\n",
      "\u001b[1;32m~\\Anaconda3\\lib\\site-packages\\nltk\\internals.py\u001b[0m in \u001b[0;36mfind_file_iter\u001b[1;34m(filename, env_vars, searchpath, file_names, url, verbose, finding_dir)\u001b[0m\n\u001b[0;32m    636\u001b[0m             \u001b[0mmsg\u001b[0m \u001b[1;33m+=\u001b[0m \u001b[1;34m'\\n\\n  For more information on %s, see:\\n    <%s>'\u001b[0m \u001b[1;33m%\u001b[0m \u001b[1;33m(\u001b[0m\u001b[0mfilename\u001b[0m\u001b[1;33m,\u001b[0m \u001b[0murl\u001b[0m\u001b[1;33m)\u001b[0m\u001b[1;33m\u001b[0m\u001b[1;33m\u001b[0m\u001b[0m\n\u001b[0;32m    637\u001b[0m         \u001b[0mdiv\u001b[0m \u001b[1;33m=\u001b[0m \u001b[1;34m'='\u001b[0m \u001b[1;33m*\u001b[0m \u001b[1;36m75\u001b[0m\u001b[1;33m\u001b[0m\u001b[1;33m\u001b[0m\u001b[0m\n\u001b[1;32m--> 638\u001b[1;33m         \u001b[1;32mraise\u001b[0m \u001b[0mLookupError\u001b[0m\u001b[1;33m(\u001b[0m\u001b[1;34m'\\n\\n%s\\n%s\\n%s'\u001b[0m \u001b[1;33m%\u001b[0m \u001b[1;33m(\u001b[0m\u001b[0mdiv\u001b[0m\u001b[1;33m,\u001b[0m \u001b[0mmsg\u001b[0m\u001b[1;33m,\u001b[0m \u001b[0mdiv\u001b[0m\u001b[1;33m)\u001b[0m\u001b[1;33m)\u001b[0m\u001b[1;33m\u001b[0m\u001b[1;33m\u001b[0m\u001b[0m\n\u001b[0m\u001b[0;32m    639\u001b[0m \u001b[1;33m\u001b[0m\u001b[0m\n\u001b[0;32m    640\u001b[0m \u001b[1;33m\u001b[0m\u001b[0m\n",
      "\u001b[1;31mLookupError\u001b[0m: \n\n===========================================================================\nNLTK was unable to find the gs file!\nUse software specific configuration paramaters or set the PATH environment variable.\n==========================================================================="
     ]
    },
    {
     "data": {
      "text/plain": [
       "Tree('S', [Tree('GPE', [('Full', 'NNP')]), ('name', 'NN'), ('of', 'IN'), (\"'Narendra\", 'NNP'), ('Modi', 'NNP'), (\"'\", 'POS'), ('is', 'VBZ'), Tree('PERSON', [('Narendra', 'NNP'), ('Damodardas', 'NNP')]), ('Modi', 'NNP'), ('He', 'PRP'), ('was', 'VBD'), ('born', 'VBN'), ('on', 'IN'), ('17', 'CD'), ('September', 'NNP'), ('1950', 'CD'), ('in', 'IN'), Tree('GPE', [('Vadnagar', 'NNP')]), (',', ','), Tree('PERSON', [('Mehsana', 'NNP')]), ('district', 'NN'), (',', ','), Tree('PERSON', [('Bombay', 'NNP'), ('State', 'NNP')]), ('(', '('), ('present', 'JJ'), ('day', 'NN'), ('Gujarat', 'NNP'), (')', ')'), ('...', ':'), ('...', ':'), ('...', ':'), ('...', ':'), ('His', 'PRP$'), ('father', 'NN'), (\"'s\", 'POS'), ('name', 'NN'), ('was', 'VBD'), Tree('PERSON', [('Damodardas', 'NNP'), ('Mool', 'NNP'), ('Chand', 'NNP'), ('Modi', 'NNP')]), ('and', 'CC'), ('mother', 'NN'), (\"'s\", 'POS'), ('name', 'NN'), ('is', 'VBZ'), Tree('PERSON', [('Hiraben', 'NNP')]), ('.', '.'), ('He', 'PRP'), ('was', 'VBD'), ('born', 'VBN'), ('into', 'IN'), ('a', 'DT'), ('middle', 'JJ'), ('class', 'NN'), ('family', 'NN'), ('At', 'IN'), ('the', 'DT'), ('age', 'NN'), ('of', 'IN'), ('13', 'CD'), (',', ','), ('he', 'PRP'), ('was', 'VBD'), ('engaged', 'VBN'), ('with', 'IN'), Tree('PERSON', [('Jasoda', 'NNP'), ('Ben', 'NNP'), ('Chaman', 'NNP'), ('Lal', 'NNP')]), ('and', 'CC'), ('when', 'WRB'), ('they', 'PRP'), ('were', 'VBD'), ('married', 'VBN'), (',', ','), ('he', 'PRP'), ('was', 'VBD'), ('just', 'RB'), ('17', 'CD')])"
      ]
     },
     "execution_count": 26,
     "metadata": {},
     "output_type": "execute_result"
    }
   ],
   "source": [
    "entities"
   ]
  },
  {
   "cell_type": "code",
   "execution_count": 27,
   "metadata": {},
   "outputs": [],
   "source": [
    "from nltk.corpus import treebank"
   ]
  },
  {
   "cell_type": "code",
   "execution_count": 28,
   "metadata": {},
   "outputs": [],
   "source": [
    "t = treebank.parsed_sents('wsj_0001.mrg')[0]"
   ]
  },
  {
   "cell_type": "code",
   "execution_count": 29,
   "metadata": {},
   "outputs": [],
   "source": [
    "t.draw()"
   ]
  },
  {
   "cell_type": "code",
   "execution_count": null,
   "metadata": {},
   "outputs": [],
   "source": []
  }
 ],
 "metadata": {
  "kernelspec": {
   "display_name": "Python 3",
   "language": "python",
   "name": "python3"
  },
  "language_info": {
   "codemirror_mode": {
    "name": "ipython",
    "version": 3
   },
   "file_extension": ".py",
   "mimetype": "text/x-python",
   "name": "python",
   "nbconvert_exporter": "python",
   "pygments_lexer": "ipython3",
   "version": "3.7.3"
  }
 },
 "nbformat": 4,
 "nbformat_minor": 2
}
